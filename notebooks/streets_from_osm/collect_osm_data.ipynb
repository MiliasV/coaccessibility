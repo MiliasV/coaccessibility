{
 "cells": [
  {
   "cell_type": "code",
   "execution_count": 1,
   "metadata": {},
   "outputs": [],
   "source": [
    "\n",
    "import osmnx as ox\n",
    "import geopandas as gpd\n",
    "import requests\n",
    "import osm2geojson\n",
    "\n",
    "\n",
    "def get_osm_data(tag_query, extent, area_type):\n",
    "    osm_crs = 'EPSG:4326'\n",
    "    url = \"http://overpass-api.de/api/interpreter\"\n",
    "\n",
    "    my_crs = extent.crs\n",
    "    if extent.crs != osm_crs:\n",
    "        extent = extent.to_crs(osm_crs)\n",
    "\n",
    "    if area_type == 'bbox':\n",
    "        bbox = extent.total_bounds\n",
    "        area = '{1},{0},{3},{2}'.format(bbox[0], bbox[1], bbox[2], bbox[3])\n",
    "    elif area_type == 'convexhull':\n",
    "        xy = extent.convex_hull.geometry[0].exterior.coords.xy\n",
    "        osm_poly = 'poly:\"'\n",
    "        for i, (lat, lon) in enumerate(zip(xy[1], xy[0])):\n",
    "            osm_poly = osm_poly + '{} {} '.format(lat, lon)\n",
    "        area = osm_poly[:-1] + '\"'\n",
    "    else:\n",
    "        print('Unknown type {}: please use [bbox] or [convexhull]'.format(area_type))\n",
    "        return None\n",
    "\n",
    "    data_request = \"\"\"\n",
    "        [out:json];\n",
    "        (\n",
    "            node{0}({1});\n",
    "            way{0}({1});\n",
    "            relation{0}({1});\n",
    "        );\n",
    "        out geom;\n",
    "        >;\n",
    "        out skel qt;\n",
    "    \"\"\".format(tag_query, area)\n",
    "\n",
    "    response = requests.get(url, params={'data': data_request})\n",
    "    geojson = osm2geojson.json2geojson(response.json())\n",
    "    gdf = gpd.GeoDataFrame.from_features(geojson)\n",
    "    gdf = gdf[gdf['tags'].notna()]  # to avoid including both ways and their waypoints\n",
    "    gdf.crs = osm_crs\n",
    "    gdf = gdf.to_crs(my_crs)  # CRS of our input dataset\n",
    "    return gdf"
   ]
  },
  {
   "cell_type": "code",
   "execution_count": 2,
   "metadata": {},
   "outputs": [],
   "source": [
    "area_type = 'convexhull'\n",
    "extent = ox.geocode_to_gdf('Amsterdam')\n",
    "\n",
    "# get parks\n",
    "park_query = '[\"leisure\" = \"park\"]'\n",
    "\n",
    "# get squares (1)\n",
    "square_query = '[\"place\" = \"square\"]'\n",
    "\n",
    "# get squares (2)\n",
    "plein_query = '[\"name\" ~ \"plein\"][\"name\"!~\"buurt\"][\"name\"!~\"Bus \"]'\n",
    "\n",
    "#other efforts to get squares (not good)\n",
    "# tag_query = '[\"highway\" = \"pedestrian\"][\"area\"=\"yes\"]'\n",
    "\n",
    "#get marketplaces\n",
    "# tag_query = '[\"amenity\" = \"marketplace\"]'"
   ]
  },
  {
   "cell_type": "code",
   "execution_count": 3,
   "metadata": {},
   "outputs": [],
   "source": [
    "gdf_park = get_osm_data(park_query, extent, area_type)\n",
    "gdf_square = get_osm_data(square_query, extent, area_type)\n",
    "gdf_plein = get_osm_data(plein_query, extent, area_type)\n",
    "\n",
    "\n",
    "# gdf.to_file(\"../data/ams_namepleinnotbuurt_osm.geojson\", driver=\"GeoJSON\")\n",
    "# print(gdf_park.head())\n",
    "# fig, ax = plt.subplots(1, 1)\n",
    "# gdf_park.plot(ax=ax)\n",
    "# gdf_square.plot(ax=ax)\n",
    "# plt.show()"
   ]
  },
  {
   "cell_type": "code",
   "execution_count": 4,
   "metadata": {},
   "outputs": [
    {
     "data": {
      "text/html": [
       "<div>\n",
       "<style scoped>\n",
       "    .dataframe tbody tr th:only-of-type {\n",
       "        vertical-align: middle;\n",
       "    }\n",
       "\n",
       "    .dataframe tbody tr th {\n",
       "        vertical-align: top;\n",
       "    }\n",
       "\n",
       "    .dataframe thead th {\n",
       "        text-align: right;\n",
       "    }\n",
       "</style>\n",
       "<table border=\"1\" class=\"dataframe\">\n",
       "  <thead>\n",
       "    <tr style=\"text-align: right;\">\n",
       "      <th></th>\n",
       "      <th>geometry</th>\n",
       "      <th>type</th>\n",
       "      <th>id</th>\n",
       "      <th>tags</th>\n",
       "    </tr>\n",
       "  </thead>\n",
       "  <tbody>\n",
       "    <tr>\n",
       "      <th>0</th>\n",
       "      <td>POINT (4.89031 52.33209)</td>\n",
       "      <td>node</td>\n",
       "      <td>4609693622</td>\n",
       "      <td>{'addr:street': 'Europaboulevard', 'leisure': ...</td>\n",
       "    </tr>\n",
       "    <tr>\n",
       "      <th>1</th>\n",
       "      <td>POINT (4.88043 52.38173)</td>\n",
       "      <td>node</td>\n",
       "      <td>7396128924</td>\n",
       "      <td>{'leisure': 'park', 'name': 'Eerste Marnixplan...</td>\n",
       "    </tr>\n",
       "    <tr>\n",
       "      <th>2</th>\n",
       "      <td>POINT (4.87608 52.37459)</td>\n",
       "      <td>node</td>\n",
       "      <td>7396143627</td>\n",
       "      <td>{'leisure': 'park', 'name': 'Tweede Marnixplan...</td>\n",
       "    </tr>\n",
       "    <tr>\n",
       "      <th>3</th>\n",
       "      <td>POLYGON ((4.91667 52.35941, 4.91608 52.36021, ...</td>\n",
       "      <td>way</td>\n",
       "      <td>4366722</td>\n",
       "      <td>{'leisure': 'park', 'name': 'Oosterpark', 'wik...</td>\n",
       "    </tr>\n",
       "    <tr>\n",
       "      <th>4</th>\n",
       "      <td>POLYGON ((4.90889 52.36833, 4.90818 52.36784, ...</td>\n",
       "      <td>way</td>\n",
       "      <td>4376560</td>\n",
       "      <td>{'leisure': 'park', 'name': 'Wertheimpark', 'w...</td>\n",
       "    </tr>\n",
       "  </tbody>\n",
       "</table>\n",
       "</div>"
      ],
      "text/plain": [
       "                                            geometry  type          id  \\\n",
       "0                           POINT (4.89031 52.33209)  node  4609693622   \n",
       "1                           POINT (4.88043 52.38173)  node  7396128924   \n",
       "2                           POINT (4.87608 52.37459)  node  7396143627   \n",
       "3  POLYGON ((4.91667 52.35941, 4.91608 52.36021, ...   way     4366722   \n",
       "4  POLYGON ((4.90889 52.36833, 4.90818 52.36784, ...   way     4376560   \n",
       "\n",
       "                                                tags  \n",
       "0  {'addr:street': 'Europaboulevard', 'leisure': ...  \n",
       "1  {'leisure': 'park', 'name': 'Eerste Marnixplan...  \n",
       "2  {'leisure': 'park', 'name': 'Tweede Marnixplan...  \n",
       "3  {'leisure': 'park', 'name': 'Oosterpark', 'wik...  \n",
       "4  {'leisure': 'park', 'name': 'Wertheimpark', 'w...  "
      ]
     },
     "execution_count": 4,
     "metadata": {},
     "output_type": "execute_result"
    }
   ],
   "source": [
    "gdf_park.head()"
   ]
  },
  {
   "cell_type": "code",
   "execution_count": 22,
   "metadata": {},
   "outputs": [
    {
     "data": {
      "text/plain": [
       "(2420, 4)"
      ]
     },
     "execution_count": 22,
     "metadata": {},
     "output_type": "execute_result"
    }
   ],
   "source": [
    "gdf_plein.shape"
   ]
  },
  {
   "cell_type": "code",
   "execution_count": 26,
   "metadata": {},
   "outputs": [],
   "source": [
    "gdf_plein = gdf_plein.loc[(gdf_plein.geometry.geom_type=='Polygon') | (gdf_plein.geometry.geom_type=='MultiPolygon')]\n",
    "gdf_park = gdf_park.loc[(gdf_park.geometry.geom_type=='Polygon') | (gdf_park.geometry.geom_type=='MultiPolygon')]\n",
    "gdf_square = gdf_square.loc[(gdf_square.geometry.geom_type=='Polygon') | (gdf_square.geometry.geom_type=='MultiPolygon')]"
   ]
  },
  {
   "cell_type": "code",
   "execution_count": 25,
   "metadata": {},
   "outputs": [
    {
     "data": {
      "text/plain": [
       "(238, 4)"
      ]
     },
     "execution_count": 25,
     "metadata": {},
     "output_type": "execute_result"
    }
   ],
   "source": [
    "gdf_plein.loc[(gdf_plein.geometry.geom_type=='Polygon') | (gdf_plein.geometry.geom_type=='MultiPolygon')].shape"
   ]
  },
  {
   "cell_type": "code",
   "execution_count": 27,
   "metadata": {},
   "outputs": [
    {
     "data": {
      "text/plain": [
       "(238, 4)"
      ]
     },
     "execution_count": 27,
     "metadata": {},
     "output_type": "execute_result"
    }
   ],
   "source": [
    "gdf_plein.shape"
   ]
  },
  {
   "cell_type": "code",
   "execution_count": 28,
   "metadata": {},
   "outputs": [
    {
     "data": {
      "text/plain": [
       "(57, 4)"
      ]
     },
     "execution_count": 28,
     "metadata": {},
     "output_type": "execute_result"
    }
   ],
   "source": [
    "gdf_square.shape"
   ]
  },
  {
   "cell_type": "code",
   "execution_count": 30,
   "metadata": {},
   "outputs": [],
   "source": [
    "import pandas\n",
    "gdf =   pandas.concat([gdf_plein, gdf_square])"
   ]
  },
  {
   "cell_type": "code",
   "execution_count": 35,
   "metadata": {},
   "outputs": [
    {
     "data": {
      "text/plain": [
       "(295, 4)"
      ]
     },
     "execution_count": 35,
     "metadata": {},
     "output_type": "execute_result"
    }
   ],
   "source": [
    "gdf.shape"
   ]
  },
  {
   "cell_type": "code",
   "execution_count": 34,
   "metadata": {},
   "outputs": [
    {
     "data": {
      "text/plain": [
       "(290, 4)"
      ]
     },
     "execution_count": 34,
     "metadata": {},
     "output_type": "execute_result"
    }
   ],
   "source": [
    "gdf_park.shape"
   ]
  },
  {
   "cell_type": "code",
   "execution_count": 36,
   "metadata": {},
   "outputs": [
    {
     "ename": "SyntaxError",
     "evalue": "invalid syntax (<ipython-input-36-32c1f3b5c161>, line 1)",
     "output_type": "error",
     "traceback": [
      "\u001b[0;36m  File \u001b[0;32m\"<ipython-input-36-32c1f3b5c161>\"\u001b[0;36m, line \u001b[0;32m1\u001b[0m\n\u001b[0;31m    ssh -L 5432:localhost:5432 ubuntu@145.100.57.202\u001b[0m\n\u001b[0m           ^\u001b[0m\n\u001b[0;31mSyntaxError\u001b[0m\u001b[0;31m:\u001b[0m invalid syntax\n"
     ]
    }
   ],
   "source": [
    "gdf = gpd.read_file('pop_ams_all.csv')\n",
    "gdf.crs = 'epsg:4326'        "
   ]
  },
  {
   "cell_type": "code",
   "execution_count": null,
   "metadata": {},
   "outputs": [],
   "source": []
  }
 ],
 "metadata": {
  "kernelspec": {
   "display_name": "Python 3",
   "language": "python",
   "name": "python3"
  },
  "language_info": {
   "codemirror_mode": {
    "name": "ipython",
    "version": 3
   },
   "file_extension": ".py",
   "mimetype": "text/x-python",
   "name": "python",
   "nbconvert_exporter": "python",
   "pygments_lexer": "ipython3",
   "version": "3.8.2"
  }
 },
 "nbformat": 4,
 "nbformat_minor": 4
}
